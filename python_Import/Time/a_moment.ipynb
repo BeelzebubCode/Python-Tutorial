{
 "cells": [
  {
   "cell_type": "code",
   "execution_count": 1,
   "id": "dd7b2cb1",
   "metadata": {},
   "outputs": [
    {
     "name": "stdout",
     "output_type": "stream",
     "text": [
      "    _      __  __                            _   \n",
      "   / \\    |  \\/  | ___  _ __ ___   ___ _ __ | |_ \n",
      "  / _ \\   | |\\/| |/ _ \\| '_ ` _ \\ / _ \\ '_ \\| __|\n",
      " / ___ \\  | |  | | (_) | | | | | |  __/ | | | |_ \n",
      "/_/   \\_\\ |_|  |_|\\___/|_| |_| |_|\\___|_| |_|\\__|\n",
      "                                                 \n",
      "\n",
      "...\n",
      "อย่าทิ้งฉันไว้ลำพัง\n",
      "อย่าขังฉันไว้คนเดียว\n",
      "อย่าปล่อยให้ฉันต้องทุกข์ทนจมอยู่กับตัวเอง\n",
      "เพราะฉันก็มีน้ำตา\n",
      "อ่อนแอไม่แพ้กว่าใคร\n",
      "แต่กลับต้องเก็บเอาไว้ในใจ ตลอดมา\n"
     ]
    }
   ],
   "source": [
    "import time\n",
    "import sys\n",
    "from pyfiglet import Figlet\n",
    "\n",
    "def render(text):\n",
    "    print(Figlet().renderText(text))\n",
    "\n",
    "def play_song():\n",
    "    lines = [\n",
    "        [\"...\", 1],\n",
    "        [\"อย่าทิ้งฉันไว้ลำพัง\", 0.11],\n",
    "        [\"อย่าขังฉันไว้คนเดียว\", 0.12],\n",
    "        [\"อย่าปล่อยให้ฉันต้องทุกข์ทนจมอยู่กับตัวเอง\", 0.12],\n",
    "        [\"เพราะฉันก็มีน้ำตา\", 0.2],\n",
    "        [\"อ่อนแอไม่แพ้กว่าใคร\", 0.12],\n",
    "        [\"แต่กลับต้องเก็บเอาไว้ในใจ ตลอดมา\", 0.15]\n",
    "    ]\n",
    "\n",
    "    delays = [0.3, 1.5, 1.9, 3.5, 1.5, 1.5, 1.2]\n",
    "    for i, (line, char_delay) in enumerate(lines):\n",
    "        for char in line:\n",
    "            print(char, end=\"\")\n",
    "            time.sleep(char_delay)\n",
    "            sys.stdout.flush()\n",
    "        time.sleep(delays[i])\n",
    "        print()\n",
    "\n",
    "render(\"A Moment\")\n",
    "play_song()"
   ]
  }
 ],
 "metadata": {
  "kernelspec": {
   "display_name": "Python 3",
   "language": "python",
   "name": "python3"
  },
  "language_info": {
   "codemirror_mode": {
    "name": "ipython",
    "version": 3
   },
   "file_extension": ".py",
   "mimetype": "text/x-python",
   "name": "python",
   "nbconvert_exporter": "python",
   "pygments_lexer": "ipython3",
   "version": "3.12.5"
  }
 },
 "nbformat": 4,
 "nbformat_minor": 5
}
