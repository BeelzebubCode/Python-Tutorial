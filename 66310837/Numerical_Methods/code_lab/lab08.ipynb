{
 "cells": [
  {
   "cell_type": "markdown",
   "metadata": {},
   "source": [
    "# 66310837\n",
    "# นายจิรัฐ ฟองดา"
   ]
  },
  {
   "cell_type": "code",
   "execution_count": 1,
   "metadata": {},
   "outputs": [],
   "source": [
    "import numpy as np\n",
    "import numpy.linalg as la\n",
    "import scipy.linalg as sla"
   ]
  },
  {
   "cell_type": "code",
   "execution_count": 2,
   "metadata": {},
   "outputs": [
    {
     "name": "stdout",
     "output_type": "stream",
     "text": [
      "[[0.2796854  0.07291289]\n",
      " [0.33839441 0.02180566]]\n"
     ]
    },
    {
     "data": {
      "text/plain": [
       "np.float64(10.593670482229864)"
      ]
     },
     "execution_count": 2,
     "metadata": {},
     "output_type": "execute_result"
    }
   ],
   "source": [
    "A = np.random.rand(2,2)\n",
    "print(A)\n",
    "la.cond(A)"
   ]
  },
  {
   "cell_type": "code",
   "execution_count": 3,
   "metadata": {},
   "outputs": [
    {
     "data": {
      "text/plain": [
       "np.float64(1010000.0000000097)"
      ]
     },
     "execution_count": 3,
     "metadata": {},
     "output_type": "execute_result"
    }
   ],
   "source": [
    "la.cond([\n",
    "         [0.000001, 0.1],\n",
    "         [0,  1]\n",
    "         ], 2)"
   ]
  },
  {
   "cell_type": "code",
   "execution_count": 4,
   "metadata": {},
   "outputs": [],
   "source": [
    "ndim = np.array([2,3,8,11,14])"
   ]
  },
  {
   "cell_type": "code",
   "execution_count": 5,
   "metadata": {},
   "outputs": [
    {
     "name": "stdout",
     "output_type": "stream",
     "text": [
      "------ N = 2 ---------\n",
      "Norm of error =  0.0\n",
      "------ N = 3 ---------\n",
      "Norm of error =  1.1102230246251565e-16\n",
      "------ N = 8 ---------\n",
      "Norm of error =  4.2826412465193164e-15\n",
      "------ N = 11 ---------\n",
      "Norm of error =  9.774377279052153e-15\n",
      "------ N = 14 ---------\n",
      "Norm of error =  5.23184869964764e-14\n"
     ]
    }
   ],
   "source": [
    "for nd in ndim:\n",
    "    ## This is the vector 'x' that we want to obtain (the exact one)\n",
    "    x = np.ones(nd)\n",
    "    ## Creat a matrix with random values between 0 and 1\n",
    "    A = np.random.rand(nd,nd)\n",
    "    ## We compute the matrix-vector multiplication\n",
    "    ## to find the right-hand side b\n",
    "    b = A @ x\n",
    "    ## We now use the linear algebra pack to compute Ax = b and solve for x\n",
    "    X_solve = la.solve(A,b)\n",
    "    ## What do we expect?\n",
    "    print(\"------ N =\", nd, \"---------\")\n",
    "    error = X_solve-x\n",
    "    print(\"Norm of error = \", la.norm(error,2))"
   ]
  },
  {
   "cell_type": "code",
   "execution_count": 6,
   "metadata": {},
   "outputs": [
    {
     "data": {
      "text/plain": [
       "array([1., 1., 1., 1., 1., 1., 1., 1., 1., 1., 1., 1., 1., 1.])"
      ]
     },
     "execution_count": 6,
     "metadata": {},
     "output_type": "execute_result"
    }
   ],
   "source": [
    "X_solve"
   ]
  },
  {
   "cell_type": "code",
   "execution_count": 7,
   "metadata": {},
   "outputs": [],
   "source": [
    "def Hilbert(n):\n",
    "    \n",
    "    H = np.zeros((n,n))\n",
    "    for i in range(n):\n",
    "        for j in range(n):\n",
    "            H[i,j] = 1.0/(j+i+1)\n",
    "    return H"
   ]
  },
  {
   "cell_type": "code",
   "execution_count": 8,
   "metadata": {},
   "outputs": [
    {
     "name": "stdout",
     "output_type": "stream",
     "text": [
      "------ N = 2 ---------\n",
      "Norm of error =  8.005932084973442e-16\n",
      "------ N = 3 ---------\n",
      "Norm of error =  1.4464463460722808e-14\n",
      "------ N = 8 ---------\n",
      "Norm of error =  1.9073830647724366e-07\n",
      "------ N = 11 ---------\n",
      "Norm of error =  0.003753868806774399\n",
      "------ N = 14 ---------\n",
      "Norm of error =  8.248637159750212\n"
     ]
    }
   ],
   "source": [
    "for nd in ndim:\n",
    "    ## This is the vector 'x' that we want to obtain (the exact one)\n",
    "    x = np.ones(nd)\n",
    "    ## Creat the Hilbert matrix\n",
    "    A = Hilbert(nd)\n",
    "    ## We compute the matrix-vector multiplication\n",
    "    ## to find the right-hand side b\n",
    "    b = A @ x\n",
    "    ## We now use the linear algebra pack to compute Ax = b and solve for x\n",
    "    X_solve = la.solve(A,b)\n",
    "    ## What do we expect?\n",
    "    print(\"------ N =\", nd, \"---------\")\n",
    "    error = X_solve-x\n",
    "    print(\"Norm of error = \", la.norm(error,2))"
   ]
  },
  {
   "cell_type": "code",
   "execution_count": 9,
   "metadata": {},
   "outputs": [
    {
     "data": {
      "text/plain": [
       "array([ 0.99999986,  1.00001865,  0.99937137,  1.00902718,  0.9321984 ,\n",
       "        1.28905897,  0.31121478,  1.67829176,  1.8448608 , -2.71520824,\n",
       "        6.48491627, -3.34820964,  2.84412601,  0.67033372])"
      ]
     },
     "execution_count": 9,
     "metadata": {},
     "output_type": "execute_result"
    }
   ],
   "source": [
    "X_solve"
   ]
  },
  {
   "cell_type": "code",
   "execution_count": 10,
   "metadata": {},
   "outputs": [
    {
     "name": "stdout",
     "output_type": "stream",
     "text": [
      "------ N = 2 ---------\n",
      "Norm of error =  8.005932084973442e-16\n",
      "Condition number =  19.281470067903967\n",
      "------ N = 3 ---------\n",
      "Norm of error =  1.4464463460722808e-14\n",
      "Condition number =  524.0567775860627\n",
      "------ N = 8 ---------\n",
      "Norm of error =  1.9073830647724366e-07\n",
      "Condition number =  15257575568.347378\n",
      "------ N = 11 ---------\n",
      "Norm of error =  0.003753868806774399\n",
      "Condition number =  522477970426706.44\n",
      "------ N = 14 ---------\n",
      "Norm of error =  8.248637159750212\n",
      "Condition number =  3.213787720967528e+17\n"
     ]
    }
   ],
   "source": [
    "for nd in ndim:\n",
    "    ## This is the vector 'x' that we want to obtain (the exact one)\n",
    "    x = np.ones(nd)\n",
    "    ## Creat the Hilbert matrix\n",
    "    A = Hilbert(nd)\n",
    "    ## We compute the matrix-vector multiplication\n",
    "    ## to find the right-hand side b\n",
    "    b = A @ x\n",
    "    ## We now use the linear algebra pack to compute Ax = b and solve for x\n",
    "    X_solve = la.solve(A,b)\n",
    "    ## What do we expect?\n",
    "    print(\"------ N =\", nd, \"---------\")\n",
    "    error = X_solve-x\n",
    "    print(\"Norm of error = \", la.norm(error,2))\n",
    "    print(\"Condition number = \", la.cond(A,2))"
   ]
  },
  {
   "cell_type": "code",
   "execution_count": 11,
   "metadata": {},
   "outputs": [
    {
     "name": "stdout",
     "output_type": "stream",
     "text": [
      "------ N = 2 ---------\n",
      "Error norm =  8.005932084973442e-16\n",
      "Residual norm =  0.0\n",
      "Condition number =  19.281470067903967\n",
      "------ N = 3 ---------\n",
      "Error norm =  1.4464463460722808e-14\n",
      "Residual norm =  0.0\n",
      "Condition number =  524.0567775860627\n",
      "------ N = 8 ---------\n",
      "Error norm =  1.9073830647724366e-07\n",
      "Residual norm =  6.568167990716596e-16\n",
      "Condition number =  15257575568.347378\n",
      "------ N = 11 ---------\n",
      "Error norm =  0.003753868806774399\n",
      "Residual norm =  3.3306690738754696e-16\n",
      "Condition number =  522477970426706.44\n",
      "------ N = 14 ---------\n",
      "Error norm =  8.248637159750212\n",
      "Residual norm =  6.933340566559918e-16\n",
      "Condition number =  3.213787720967528e+17\n"
     ]
    }
   ],
   "source": [
    "for nd in ndim:\n",
    "    ## This is the vector 'x' that we want to obtain (the exact one)\n",
    "    x = np.ones(nd)\n",
    "    ## Creat the Hilbert matrix\n",
    "    A = Hilbert(nd)\n",
    "    ## We compute the matrix-vector multiplication\n",
    "    ## to find the right-hand side b\n",
    "    b = A @ x\n",
    "    ## We now use the linear algebra pack to compute Ax = b and solve for x\n",
    "    X_solve = la.solve(A,b)\n",
    "    ## What do we expect?\n",
    "    print(\"------ N =\", nd, \"---------\")\n",
    "    error = X_solve - x\n",
    "    residual = A@X_solve - b\n",
    "    print(\"Error norm = \", la.norm(error,2))\n",
    "    print(\"Residual norm = \",la.norm(residual,2))\n",
    "    print(\"Condition number = \", la.cond(A,2))"
   ]
  },
  {
   "cell_type": "code",
   "execution_count": 12,
   "metadata": {},
   "outputs": [
    {
     "name": "stdout",
     "output_type": "stream",
     "text": [
      "------ N = 2 ---------\n",
      "Error norm =  8.005932084973442e-16\n",
      "|dx|/|x| <  1.928147006790397e-15\n",
      "------ N = 3 ---------\n",
      "Error norm =  1.4464463460722808e-14\n",
      "|dx|/|x| <  5.240567775860627e-14\n",
      "------ N = 8 ---------\n",
      "Error norm =  1.9073830647724366e-07\n",
      "|dx|/|x| <  1.5257575568347377e-06\n",
      "------ N = 11 ---------\n",
      "Error norm =  0.003753868806774399\n",
      "|dx|/|x| <  0.05224779704267064\n",
      "------ N = 14 ---------\n",
      "Error norm =  8.248637159750212\n",
      "|dx|/|x| <  32.137877209675274\n"
     ]
    }
   ],
   "source": [
    "for nd in ndim:\n",
    "    ## This is the vector 'x' that we want to obtain (the exact one)\n",
    "    x = np.ones(nd)\n",
    "    ## Creat the Hilbert matrix\n",
    "    A = Hilbert(nd)\n",
    "    ## We compute the matrix-vector multiplication\n",
    "    ## to find the right-hand side b\n",
    "    b = A @ x\n",
    "    ## We now use the linear algebra pack to compute Ax = b and solve for x\n",
    "    X_solve = la.solve(A,b)\n",
    "    ## What do we expect?\n",
    "    print(\"------ N =\", nd, \"---------\")\n",
    "    error = X_solve-x\n",
    "    residual = A@X_solve - b\n",
    "    print(\"Error norm = \", la.norm(error,2))\n",
    "    # print(\"Residual norm = \",la.norm(residual,2))\n",
    "    print(\"|dx|/|x| < \", la.cond(A,2)*10**(-16))\n",
    "    # print(\"Condition number = \", la.cond(A,2))"
   ]
  },
  {
   "cell_type": "code",
   "execution_count": 13,
   "metadata": {},
   "outputs": [],
   "source": [
    "def myLU(A):\n",
    "    n = A.shape[0]\n",
    "    U = np.zeros((n,n))\n",
    "    L = np.zeros((n,n))\n",
    "    M = A.copy()\n",
    "    for i in range(n):\n",
    "        U[i,i:] = M[i,i:]\n",
    "        L[i:,i] = M[i:,i]/U[i,i]\n",
    "        M[i+1:,i+1:] -= np.outer(L[i+1:,i],U[i,i+1:])\n",
    "    return L,U"
   ]
  },
  {
   "cell_type": "code",
   "execution_count": 14,
   "metadata": {},
   "outputs": [
    {
     "name": "stdout",
     "output_type": "stream",
     "text": [
      "Exact solution =  [1 1]\n",
      "Computed solution =  [1. 1.]\n",
      "Error =  0.0\n",
      "Condition number =  2.6180339887498953\n",
      "Resiudal =  0.0\n"
     ]
    }
   ],
   "source": [
    "# Creating the arrays\n",
    "c = 1e-16\n",
    "A = np.array([[c, 1.], [-1, 1]])\n",
    "# xx is the exact solution\n",
    "xx = np.array([1,1])\n",
    "b = A.dot(xx)\n",
    "\n",
    "# Comput the LU\n",
    "L,U = myLU(A)\n",
    "\n",
    "# Solve \n",
    "# x is the numerical (xhat)\n",
    "y = sla.solve_triangular(L, b, lower=True)\n",
    "x = sla.solve_triangular(U, y)\n",
    "\n",
    "x = sla.solve(A,b)\n",
    "\n",
    "print(\"Exact solution = \", xx)\n",
    "print(\"Computed solution = \",x)\n",
    "print(\"Error = \", la.norm(xx-x))\n",
    "print(\"Condition number = \", la.cond(A,2))\n",
    "print(\"Resiudal = \", la.norm(A@x - b))\n"
   ]
  }
 ],
 "metadata": {
  "kernelspec": {
   "display_name": "nm",
   "language": "python",
   "name": "python3"
  },
  "language_info": {
   "codemirror_mode": {
    "name": "ipython",
    "version": 3
   },
   "file_extension": ".py",
   "mimetype": "text/x-python",
   "name": "python",
   "nbconvert_exporter": "python",
   "pygments_lexer": "ipython3",
   "version": "3.12.7"
  }
 },
 "nbformat": 4,
 "nbformat_minor": 2
}
