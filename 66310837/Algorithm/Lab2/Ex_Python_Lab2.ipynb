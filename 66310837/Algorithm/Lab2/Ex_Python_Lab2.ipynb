{
 "cells": [
  {
   "cell_type": "code",
   "execution_count": 1,
   "id": "f16057ac",
   "metadata": {},
   "outputs": [
    {
     "name": "stdout",
     "output_type": "stream",
     "text": [
      "11.00\n"
     ]
    }
   ],
   "source": [
    "numbers = [int(input()) for _ in range(int(input()))]\n",
    "avg = sum(numbers)/len(numbers)\n",
    "\n",
    "print(f\"{avg:.2f}\")"
   ]
  },
  {
   "cell_type": "code",
   "execution_count": null,
   "id": "be24d4ee",
   "metadata": {},
   "outputs": [],
   "source": [
    "print(\"Even\" if int(input())%2 == 0 else \"Odd\")"
   ]
  },
  {
   "cell_type": "code",
   "execution_count": null,
   "id": "b3cd8ba1",
   "metadata": {},
   "outputs": [],
   "source": [
    "a = int(input())\n",
    "b = int(input())\n",
    "\n",
    "print(a+b)"
   ]
  },
  {
   "cell_type": "code",
   "execution_count": null,
   "id": "a269e121",
   "metadata": {},
   "outputs": [],
   "source": [
    "# import sys\n",
    "# n = int(sys.stdin.readline().strip())\n",
    "\n",
    "# if n == 0:\n",
    "#     print(0)\n",
    "# else:\n",
    "#     numbers = [int(sys.stdin.readline().strip()) for _ in range(n)]\n",
    "#     max_number = max(numbers)\n",
    "#     print(max_number)"
   ]
  },
  {
   "cell_type": "code",
   "execution_count": 5,
   "id": "a1296ba1",
   "metadata": {},
   "outputs": [
    {
     "name": "stdout",
     "output_type": "stream",
     "text": [
      "6\n"
     ]
    }
   ],
   "source": [
    "n = int(input())\n",
    "number_even = []\n",
    "\n",
    "for _ in range(n):\n",
    "    check_n = int(input())\n",
    "    if check_n % 2 != 0:\n",
    "        continue\n",
    "    number_even.append(check_n)\n",
    "print(sum(number_even))"
   ]
  },
  {
   "cell_type": "code",
   "execution_count": 7,
   "id": "5e1de292",
   "metadata": {},
   "outputs": [
    {
     "name": "stdout",
     "output_type": "stream",
     "text": [
      "32.00\n"
     ]
    }
   ],
   "source": [
    "print(f\"{float(input())*9/5+32:.2f}\")"
   ]
  },
  {
   "cell_type": "code",
   "execution_count": null,
   "id": "ece6db46",
   "metadata": {},
   "outputs": [],
   "source": [
    "tower_of_hanoi = 2**int(input())-1\n",
    "print(tower_of_hanoi)"
   ]
  },
  {
   "cell_type": "code",
   "execution_count": 12,
   "id": "a306c332",
   "metadata": {},
   "outputs": [
    {
     "name": "stdout",
     "output_type": "stream",
     "text": [
      "[[1, 2], [3, 4], [5, 6], [7, 8], [5], [5], [555], []]\n"
     ]
    }
   ],
   "source": [
    "number_of_matrix = [ for _ in range(int(input()))  list(map(int, input().split())) for _ in range(4)]\n",
    "print(number_of_matrix)"
   ]
  },
  {
   "cell_type": "code",
   "execution_count": null,
   "id": "8d40d57a",
   "metadata": {},
   "outputs": [],
   "source": [
    "# number_of_matrix = []\n",
    "# for _ in range(int(input())):\n",
    "#     matrix = [list(map(int, input().split())) for _ in range(2)]\n",
    "#     number_of_matrix.append(matrix)\n",
    "\n",
    "# print(number_of_matrix)"
   ]
  },
  {
   "cell_type": "code",
   "execution_count": null,
   "id": "16613878",
   "metadata": {},
   "outputs": [
    {
     "name": "stdout",
     "output_type": "stream",
     "text": [
      "{'1': 1, '2': 2, '3': 2}\n"
     ]
    }
   ],
   "source": [
    "# Count Number\n",
    "n = int(input())\n",
    "\n",
    "numbers_count = {}\n",
    "for i in range(n):\n",
    "    n = input()\n",
    "    if n not in numbers_count:\n",
    "        numbers_count[n] = 1\n",
    "    else:\n",
    "        numbers_count[n] += 1\n",
    "\n",
    "max_count = 0\n",
    "for key in numbers_count:\n",
    "    if numbers_count[key] > max_count:\n",
    "        max_count = numbers_count[key]\n",
    "\n",
    "numbers = []\n",
    "if max_count == 1 or n == 0:\n",
    "    print(\"No duplicates\")\n",
    "else:\n",
    "    for key in numbers_count:\n",
    "        if numbers_count[key] == max_count:\n",
    "            numbers.append(int(key))\n",
    "\n",
    "numbers.sort()\n",
    "if len(numbers) >= 1:\n",
    "    print(numbers[0])"
   ]
  },
  {
   "cell_type": "code",
   "execution_count": null,
   "id": "89563f91",
   "metadata": {},
   "outputs": [
    {
     "name": "stdout",
     "output_type": "stream",
     "text": [
      "30\n"
     ]
    }
   ],
   "source": [
    "import sys\n",
    "\n",
    "n = int(sys.stdin.readline().strip())\n",
    "if n == 0:\n",
    "    print(-1)\n",
    "    sys.exit()\n",
    "\n",
    "numbers = [int(sys.stdin.readline().strip()) for _ in range(n)]\n",
    "n_search = int(sys.stdin.readline().strip())\n",
    "index_search = None\n",
    "\n",
    "for i in range(len(numbers)):\n",
    "    if numbers[i] == n_search:\n",
    "        index_search = i\n",
    "        break\n",
    "\n",
    "if index_search != None:\n",
    "    print(index_search)\n",
    "else:\n",
    "    print(-1)"
   ]
  },
  {
   "cell_type": "code",
   "execution_count": null,
   "id": "2da117dd",
   "metadata": {},
   "outputs": [],
   "source": [
    "M, N = map(int, input().split())\n",
    "\n",
    "A = []\n",
    "for i in range(M):\n",
    "    A.append(list(map(int, input().split())))\n",
    "\n",
    "B = []\n",
    "for i in range(M):\n",
    "    B.append(list(map(int, input().split())))\n",
    "\n",
    "C = []\n",
    "for i in range(M):\n",
    "    row = []\n",
    "    for j in range(N):\n",
    "        row.append(A[i][j]+B[i][j])\n",
    "    C.append(row)\n",
    "\n",
    "for row in C:\n",
    "    print(\" \".join(map(str, row)))"
   ]
  },
  {
   "cell_type": "code",
   "execution_count": null,
   "id": "1e136879",
   "metadata": {},
   "outputs": [],
   "source": [
    "import math\n",
    "\n",
    "print(math.factorial(int(input())))"
   ]
  },
  {
   "cell_type": "code",
   "execution_count": null,
   "id": "609099d7",
   "metadata": {},
   "outputs": [],
   "source": [
    "from sys import stdin as s\n",
    "\n",
    "word = s.readline().replace(\" \", \"\").lower().strip()\n",
    "print(word == word[::-1])"
   ]
  },
  {
   "cell_type": "code",
   "execution_count": null,
   "id": "93125561",
   "metadata": {},
   "outputs": [],
   "source": [
    "from sys import stdin as s\n",
    "\n",
    "n = int(s.readline().strip())\n",
    "numbers = [s.readline().strip() for _ in range(n)]\n",
    "\n",
    "check = True\n",
    "for i in numbers:\n",
    "    if numbers.count(i) > 1:\n",
    "        check = False\n",
    "        break\n",
    "\n",
    "print(check)"
   ]
  },
  {
   "cell_type": "code",
   "execution_count": null,
   "id": "0d85165b",
   "metadata": {},
   "outputs": [],
   "source": [
    "n = int(input())\n",
    "\n",
    "n_binary = []\n",
    "while n != 0:\n",
    "    n_binary.insert(0, n%2)\n",
    "    n //= 2\n",
    "\n",
    "print(len(n_binary))\n",
    "#bin(parameter)"
   ]
  },
  {
   "cell_type": "code",
   "execution_count": null,
   "id": "2fdeb2c6",
   "metadata": {},
   "outputs": [],
   "source": [
    "def fibo(n, fibo_dict):\n",
    "    if n in fibo_dict:\n",
    "        return fibo_dict[n]\n",
    "    else:\n",
    "        fibo_dict[n] = fibo(n-1, fibo_dict) + fibo(n-2, fibo_dict)\n",
    "        return fibo_dict[n]\n",
    "\n",
    "fibo_dicts = {\n",
    "    0: 0,\n",
    "    1: 1\n",
    "}\n",
    "n = int(input())\n",
    "result = fibo(n, fibo_dicts)\n",
    "\n",
    "print(result)"
   ]
  },
  {
   "cell_type": "code",
   "execution_count": null,
   "id": "a4f7ee28",
   "metadata": {},
   "outputs": [],
   "source": [
    "n = int(input())\n",
    "numbers = [int(input()) for _ in range(n)]\n",
    "\n",
    "sum = count = 0\n",
    "for i in numbers:\n",
    "    if i > 0:\n",
    "        sum += i\n",
    "        count += 1\n",
    "\n",
    "if not sum:\n",
    "    print(f\"{0:.2f}\")\n",
    "else:\n",
    "    print(f\"{sum/count:.2f}\")"
   ]
  },
  {
   "cell_type": "code",
   "execution_count": null,
   "id": "16444b12",
   "metadata": {},
   "outputs": [],
   "source": [
    "import math\n",
    "\n",
    "numbers = [int(input())**2 for _ in range(int(input()))]\n",
    "\n",
    "print(f\"{math.sqrt(sum(numbers)):.2f}\")"
   ]
  },
  {
   "cell_type": "code",
   "execution_count": null,
   "id": "a467f4c2",
   "metadata": {},
   "outputs": [],
   "source": [
    "numbers = sorted([int(input()) for _ in range(int(input()))])\n",
    "print(\" \".join(list(map(str, numbers))))"
   ]
  }
 ],
 "metadata": {
  "kernelspec": {
   "display_name": "Python 3",
   "language": "python",
   "name": "python3"
  },
  "language_info": {
   "codemirror_mode": {
    "name": "ipython",
    "version": 3
   },
   "file_extension": ".py",
   "mimetype": "text/x-python",
   "name": "python",
   "nbconvert_exporter": "python",
   "pygments_lexer": "ipython3",
   "version": "3.12.5"
  }
 },
 "nbformat": 4,
 "nbformat_minor": 5
}
