{
 "cells": [
  {
   "cell_type": "code",
   "execution_count": 3,
   "metadata": {},
   "outputs": [
    {
     "name": "stdout",
     "output_type": "stream",
     "text": [
      "Hello Python File IO\n"
     ]
    }
   ],
   "source": [
    "# file = open(r\"C:\\Python\\66310837\\python\\FileIO\\test.txt\", \"r\")\n",
    "file = open(\"C:/Python/66310837/python/FileIO/test.txt\")\n",
    "data = file.read()\n",
    "print(data)\n",
    "file.close()"
   ]
  },
  {
   "cell_type": "code",
   "execution_count": 7,
   "metadata": {},
   "outputs": [],
   "source": [
    "path_file = \"./NU_name.txt\""
   ]
  },
  {
   "cell_type": "code",
   "execution_count": 6,
   "metadata": {},
   "outputs": [
    {
     "name": "stdout",
     "output_type": "stream",
     "text": [
      "123456 John\n"
     ]
    }
   ],
   "source": [
    "with open(\"./NU_name.txt\") as file:\n",
    "    data = file.read()\n",
    "    print(data)"
   ]
  },
  {
   "cell_type": "code",
   "execution_count": 5,
   "metadata": {},
   "outputs": [],
   "source": [
    "with open(\"./NU_name.txt\", \"w\") as file:\n",
    "    file.write(\"123456 John\")"
   ]
  },
  {
   "cell_type": "code",
   "execution_count": 14,
   "metadata": {},
   "outputs": [],
   "source": [
    "with open(file=path_file, mode=\"a\", encoding=\"utf8\") as file:\n",
    "    file.write(\"\\nข้าวขาหมู\")"
   ]
  },
  {
   "cell_type": "code",
   "execution_count": 139,
   "metadata": {},
   "outputs": [
    {
     "name": "stdout",
     "output_type": "stream",
     "text": [
      "['กะเพราไข่ข้น', 'กะเพรากุนเชียง', 'กะเพราทะเลรวมมิตร', 'กะเพรากุ้งไข่ดาว', 'กะเพราเนื้อไข่ดาว', 'กะเพราปลาหมึก', 'กะเพราไก่ไข่ดาว', 'กะเพราหมูกรอบ', 'กะเพราหมูชิ้น', 'กะเพราหมูสับ', 'ข้าวไข่ระเบิด', 'ข้าวไข่ข้นแฮมชีส', 'ข้าวไข่เจียวกุ้งสับ', 'ข้าวไข่เจียวหมูสับ', 'ผัดซีอิ๊วหมู', 'บะหมี่กรอบราดหน้า', 'ราดหน้าหมู', 'ราดหน้าไก่', 'ราดหน้าทะเล', 'ผัดมักกะโรนีกุ้ง', 'ข้าวปลาหมึกทอดกระเทียม', 'ข้าวไก่ทอดกระเทียม', 'ข้าวหมูทอดกระเทียม', 'ข้าวกุ้งทอดกระเทียม', 'ผัดพริกแกงปลาหมึก', 'ผัดพริกแกงกุ้ง', 'ผัดพริกแกงทะเล', 'ผัดพริกแกงเนื้อ', 'ผัดพริกแกงหมู', 'ผัดพริกแกงไก่', 'ข้าวผัดหมู', 'ข้าวผัดไก่', 'ข้าวผัดปู', 'ข้าวผัดต้มยำทะเล', 'ข้าวผัดหมูกรอบ', 'ข้าวผัดกุนเชียง', 'ข้าวผัดคะน้าปลาเค็ม', 'ข้าวผัดแหนม', 'ข้าวผัดพริกเผาหมู', 'ข้าวผัดพริกเผาไก่', 'ข้าวผัดพริกสดไก่', 'ข้าวผัดพริกสดหมู', 'ข้าวผัดพริกหยวก', 'ข้าวผัดเบคอน', 'ข้าวผัดไส้กรอก', 'ข้าวผัดรวมมิตร', 'ข้าวผัดคะน้าหมูกรอบ', 'ข้าวยำไก่แซ่บ', 'แหนมผัดไข่', 'ข้าวหมูผัดพริกหยวก', 'ข้าวไก่ผัดพริกหยวก', 'ข้าวไก่ทอดน้ำปลา', 'ข้าวหมูทอดกระเทียม', 'ผัดซีอิ๊วหมู', 'หมี่กรอบผัดซีอิ๊ว', 'ข้าวคลุกกะปิ', 'ข้าวยำปลากระป๋อง', 'ข้าวยำไก่แซ่บ', 'ข้าวปลาหมึกยำแซ่บ', 'ข้าวทะเลผัดผงกะหรี่', 'ข้าวปลาหมึกผัดไข่เค็ม', 'ข้าวปูผัดผงกะหรี่', 'ข้าวหมูผัดผงกะหรี่', 'ข้าวปลาหมึกผัดผงกะหรี่', 'ข้าวกุ้งผัดพริกเกลือ', 'ข้าวผัดฉ่าทะเล', 'ข้าวหมูผัดน้ำพริกเผา', 'ข้าวบร็อกโคลีผัดกุ้ง', 'ยำวุ้นเส้น', 'ลาบวุ้นเส้น', 'มาม่าหมูสับ', 'มาม่าต้มย้ำทะเล', 'มาม่าผัดไส้กรอก', 'มาม่าหมูยอ', 'มาม่าต้มยำทะเล', 'ยำหมูยอไข่แดง', 'ยำไส้กรอกไข่เค็ม', 'ผัดไทย', 'สุกี้แห้งหมู', 'สุกี้น้ำหมู', 'สุกี้ทะเลแห้ง', 'ผักบุ้งไฟแดง', 'ยำวุ้นเส้นทะเล', 'ข้าวราดผัดถั่วงอก', 'ข้าวราดผัดเต้าหู้', 'ข้าวผัดกะหล่ำปลี', 'ข้าวราดผัดผักกระเฉด', 'ยำวุ้นเส้นใส่ไข่', 'สปาเก็ตตี้ผัดพริกแห้ง', 'สปาเก็ตตี้เบคอน', 'สปาเก็ตตี้ครีมซอสเห็ด', 'สปาเก็ตตี้ขี้เมา', 'สปาเก็ตตี้หมูสับ', 'สปาเก็ตตี้คะน้า', 'สปาเก็ตตี้ซอสมะเขือเทศ', 'ข้าวถั่วฝักยาวผัด', 'ยำรวมเห็ด', 'เต้าหู้หมูสับผัดไข่']\n",
      "['ข้าวหมูผัดน้ำพริกเผา', 'ลาบวุ้นเส้น']\n"
     ]
    }
   ],
   "source": [
    "import random\n",
    "\n",
    "with open(\"./menu.txt\", encoding=\"utf8\") as file:\n",
    "    data = []\n",
    "    for i in file.readlines():\n",
    "        data.append(i.strip())\n",
    "    # data = [i.strip() for i in file.readlines()]\n",
    "    print(data)\n",
    "\n",
    "menu_of_day = random.choices(data, k=2)\n",
    "print(menu_of_day)"
   ]
  },
  {
   "cell_type": "code",
   "execution_count": 6,
   "metadata": {},
   "outputs": [
    {
     "name": "stdout",
     "output_type": "stream",
     "text": [
      "123456 John age = 18\n",
      "123457 Jo age = 19\n"
     ]
    }
   ],
   "source": [
    "with open(\"./NU_name.txt\", \"r+\", encoding=\"utf8\") as file:\n",
    "    data = file.read()\n",
    "    file.write(\"\\n66311428 John Devze age: 18\")\n",
    "\n",
    "print(data)"
   ]
  },
  {
   "cell_type": "code",
   "execution_count": 57,
   "metadata": {},
   "outputs": [
    {
     "name": "stdout",
     "output_type": "stream",
     "text": [
      "[4, 1]\n"
     ]
    }
   ],
   "source": [
    "a = [1,2,3,4,5]\n",
    "print(random.choices(a, k=2))"
   ]
  },
  {
   "cell_type": "code",
   "execution_count": 60,
   "metadata": {},
   "outputs": [
    {
     "name": "stdout",
     "output_type": "stream",
     "text": [
      "500\n"
     ]
    }
   ],
   "source": [
    "def sum(a, b, c, d):\n",
    "    return a + b * c - d\n",
    "\n",
    "result = sum(c=50, a=10, b=10, d=10)\n",
    "print(result)"
   ]
  },
  {
   "cell_type": "code",
   "execution_count": 14,
   "metadata": {},
   "outputs": [
    {
     "name": "stdout",
     "output_type": "stream",
     "text": [
      "c:\\Python\\66310837\\python\\FileIO\n",
      "c:\\Python\\66310837\\python\\Lab\n"
     ]
    }
   ],
   "source": [
    "import os\n",
    "\n",
    "# os.mkdir(r\"C:\\Python\\66310837\\python\\FileIO\\F2\")\n",
    "# os.rmdir(r\"C:\\Python\\66310837\\python\\FileIO\\F2\")\n",
    "# os.rename(r\"C:\\Python\\66310837\\python\\FileIO\\F1\", r\"C:\\Python\\66310837\\python\\FileIO\\F6\")\n",
    "print(os.getcwd())\n",
    "# os.chdir(r\"c:\\Python\\66310837\\python\\FileIO\")\n",
    "os.chdir(r\"c:\\Python\\66310837\\python\\Lab\")\n",
    "print(os.getcwd())"
   ]
  },
  {
   "cell_type": "code",
   "execution_count": 21,
   "metadata": {},
   "outputs": [
    {
     "name": "stdout",
     "output_type": "stream",
     "text": [
      "มีโฟล์เดอร์อยู่แล้ว\n",
      "2\n",
      "3\n",
      "60\n",
      "20\n",
      "200\n"
     ]
    }
   ],
   "source": [
    "import os\n",
    "import math\n",
    "\n",
    "try:\n",
    "    os.mkdir(\"./F8\")\n",
    "except:\n",
    "    print(\"มีโฟล์เดอร์อยู่แล้ว\")\n",
    "\n",
    "a = [20,30,40,50,60]\n",
    "print(round(2.5))\n",
    "print(math.ceil(2.1))\n",
    "print(max(a))\n",
    "print(min(a))\n",
    "print(sum(a))"
   ]
  }
 ],
 "metadata": {
  "kernelspec": {
   "display_name": "Python 3",
   "language": "python",
   "name": "python3"
  },
  "language_info": {
   "codemirror_mode": {
    "name": "ipython",
    "version": 3
   },
   "file_extension": ".py",
   "mimetype": "text/x-python",
   "name": "python",
   "nbconvert_exporter": "python",
   "pygments_lexer": "ipython3",
   "version": "3.12.5"
  }
 },
 "nbformat": 4,
 "nbformat_minor": 2
}
