{
 "cells": [
  {
   "cell_type": "code",
   "execution_count": 5,
   "metadata": {},
   "outputs": [
    {
     "name": "stdout",
     "output_type": "stream",
     "text": [
      "21\n"
     ]
    }
   ],
   "source": [
    "Xnum1 = input()\n",
    "with open(\"C:/Users/User/Desktop/example10.txt\", \"w+\") as file:\n",
    "    file.write(Xnum1)\n",
    "\n",
    "with open(\"C:/Users/User/Desktop/example10.txt\") as file:\n",
    "    Xnum2 = file.read()\n",
    "    num = int(Xnum2)\n",
    "    if num % 2 == 1 and num > 10:\n",
    "        result = num + 10\n",
    "    else:\n",
    "        result = num - 8\n",
    "print(result)\n"
   ]
  },
  {
   "cell_type": "code",
   "execution_count": 14,
   "metadata": {},
   "outputs": [
    {
     "name": "stdout",
     "output_type": "stream",
     "text": [
      "ฉันเป็นนิสิตชั้นปีที่1 มหาวิทยาลัยนเรศวร\n",
      "ฉันกำลังฝึกภาคปฎิบัติวิชาการโปรแกรมภาษาไพทอน\n"
     ]
    }
   ],
   "source": [
    "with open(\"C:/Users/User/Desktop/filePython.txt\", encoding=\"utf8\") as file:\n",
    "    data = file.read()\n",
    "    print(data)"
   ]
  },
  {
   "cell_type": "code",
   "execution_count": 1,
   "metadata": {},
   "outputs": [],
   "source": [
    "with open(\"C:/Users/User/Desktop/testPython.txt\", \"w\") as file:\n",
    "    file.write(\"Hello Python Programming\")"
   ]
  },
  {
   "cell_type": "code",
   "execution_count": 2,
   "metadata": {},
   "outputs": [],
   "source": [
    "with open(\"C:/Users/User/Desktop/filePython_.txt\", \"a\", encoding=\"utf8\") as file:\n",
    "    file.write(\"ไพทอน\")"
   ]
  }
 ],
 "metadata": {
  "kernelspec": {
   "display_name": "Python 3",
   "language": "python",
   "name": "python3"
  },
  "language_info": {
   "codemirror_mode": {
    "name": "ipython",
    "version": 3
   },
   "file_extension": ".py",
   "mimetype": "text/x-python",
   "name": "python",
   "nbconvert_exporter": "python",
   "pygments_lexer": "ipython3",
   "version": "3.12.5"
  }
 },
 "nbformat": 4,
 "nbformat_minor": 2
}
