{
 "cells": [
  {
   "cell_type": "code",
   "execution_count": 15,
   "metadata": {},
   "outputs": [
    {
     "name": "stdout",
     "output_type": "stream",
     "text": [
      "5000.0\n"
     ]
    }
   ],
   "source": [
    "i = 1\n",
    "sum = 0\n",
    "while i <= 5:\n",
    "    salary = float(input())\n",
    "    sum += salary\n",
    "    i+= 1\n",
    "\n",
    "print(sum)"
   ]
  },
  {
   "cell_type": "code",
   "execution_count": 18,
   "metadata": {},
   "outputs": [
    {
     "name": "stdout",
     "output_type": "stream",
     "text": [
      "6\n"
     ]
    }
   ],
   "source": [
    "sum = 0\n",
    "while True:\n",
    "    number = int(input())\n",
    "    if number == 0: break\n",
    "    if number %2 == 0 and number %3 == 0:\n",
    "        sum += number\n",
    "        \n",
    "print(sum)"
   ]
  },
  {
   "cell_type": "code",
   "execution_count": 3,
   "metadata": {},
   "outputs": [
    {
     "name": "stdout",
     "output_type": "stream",
     "text": [
      "input: 7\n",
      "Sum = 28\n",
      "Avg = 4.0\n"
     ]
    }
   ],
   "source": [
    "n = int(input())\n",
    "i, sum = 1, 0\n",
    "while i <= n:\n",
    "    sum += i\n",
    "    i+=1\n",
    "\n",
    "avg = sum / n\n",
    "print(f\"input: {n}\")\n",
    "print(f\"Sum = {sum}\\nAvg = {avg}\")"
   ]
  },
  {
   "cell_type": "code",
   "execution_count": null,
   "metadata": {},
   "outputs": [],
   "source": []
  },
  {
   "cell_type": "code",
   "execution_count": 8,
   "metadata": {},
   "outputs": [
    {
     "name": "stdout",
     "output_type": "stream",
     "text": [
      "0\n"
     ]
    }
   ],
   "source": [
    "n = int(input())\n",
    "i, sum = 1, 0\n",
    "while i < n:\n",
    "    if i%3 == 0 or i%5 == 0:\n",
    "        sum += i\n",
    "    i += 1\n",
    "\n",
    "print(sum)"
   ]
  },
  {
   "cell_type": "code",
   "execution_count": 4,
   "metadata": {},
   "outputs": [],
   "source": [
    "n = int(input())\n",
    "\n",
    "if n > 0:\n",
    "    i = 1; numbers = []\n",
    "    count = 0\n",
    "    while i <= n:\n",
    "        num = int(input())\n",
    "        numbers.append(num)\n",
    "        if num < 0: \n",
    "            count+=1\n",
    "        i += 1\n",
    "\n",
    "    number_range = max(numbers) - min(numbers)\n",
    "    print(f\"input: {n}\")\n",
    "    print(f\"input all : {' '.join(map(str, numbers))}\")\n",
    "    print(f\"ผลต่าง: {number_range} ค่าลบ: {count}\")"
   ]
  },
  {
   "cell_type": "code",
   "execution_count": 2,
   "metadata": {},
   "outputs": [
    {
     "name": "stdout",
     "output_type": "stream",
     "text": [
      "[1, 1, 3, 5, 7, 8, 9, 10, 12, 14, 15, 19, 21, 23, 30, 40, 45, 50, 50, 55, 55, 60, 62, 66, 70, 87, 88, 99, 100, 808]\n"
     ]
    }
   ],
   "source": [
    "MIN_RUN = 32\n",
    "\n",
    "def insertion_sort(array, left, right):\n",
    "    for i in range(left + 1, right + 1):\n",
    "        key = array[i]\n",
    "        j = i - 1\n",
    "        while j >= left and array[j] > key:\n",
    "            array[j + 1] = array[j]\n",
    "            j -= 1\n",
    "        array[j + 1] = key\n",
    "\n",
    "def merge(array, left, mid, right):\n",
    "    len1, len2 = mid - left + 1, right - mid\n",
    "    left_part, right_part = [], []\n",
    "    for i in range(len1):\n",
    "        left_part.append(array[left + i])\n",
    "    for i in range(len2):\n",
    "        right_part.append(array[mid + 1 + i])\n",
    "    \n",
    "    i, j, k = 0, 0, left\n",
    "    while i < len1 and j < len2:\n",
    "        if left_part[i] <= right_part[j]:\n",
    "            array[k] = left_part[i]\n",
    "            i += 1\n",
    "        else:\n",
    "            array[k] = right_part[j]\n",
    "            j += 1\n",
    "        k += 1\n",
    "    \n",
    "    while i < len1:\n",
    "        array[k] = left_part[i]\n",
    "        i += 1\n",
    "        k += 1\n",
    "    \n",
    "    while j < len2:\n",
    "        array[k] = right_part[j]\n",
    "        j += 1\n",
    "        k += 1\n",
    "\n",
    "def tim_sort(array):\n",
    "    n = len(array)\n",
    "    for i in range(0, n, MIN_RUN):\n",
    "        insertion_sort(array, i, min((i + MIN_RUN - 1), (n - 1)))\n",
    "\n",
    "    size = MIN_RUN\n",
    "    while size < n:\n",
    "        for left in range(0, n, 2 * size):\n",
    "            mid = min((n - 1), (left + size - 1))\n",
    "            right = min((left + 2 * size - 1), (n - 1))\n",
    "            if mid < right:\n",
    "                merge(array, left, mid, right)\n",
    "        size = 2 * size\n",
    "\n",
    "# การใช้งาน Tim Sort\n",
    "array = [5, 21, 7, 23, 19, 10, 1, 3, 8, 15, 9, 14, 100, 99, 50, 60, 45, 87, 55, 66, 12, 55, 62, 30, 1, 40, 50, 70, 88, 808]\n",
    "tim_sort(array)\n",
    "print(array)  # Output: [1, 3, 5, 7, 8, 9, 10, 14, 15, 19, 21, 23]"
   ]
  },
  {
   "cell_type": "code",
   "execution_count": 13,
   "metadata": {},
   "outputs": [
    {
     "name": "stdout",
     "output_type": "stream",
     "text": [
      "0\n"
     ]
    }
   ],
   "source": [
    "# x = 4\n",
    "# while x<12:\n",
    "#     x += 3\n",
    "#     if x == 8:\n",
    "#         continue\n",
    "#     print(x)\n",
    "\n",
    "# x = 1\n",
    "# while x<=10:\n",
    "#     x += 1\n",
    "#     if x % 2 == 0:\n",
    "#         continue\n",
    "#     print(x, end=\" \") \n",
    "#     print(\"Hello\")\n",
    "\n",
    "# x = [0, 1, 2, 5, 14, 18]\n",
    "# print(x[:2])\n",
    "\n",
    "# number = int(input())\n",
    "# i = 1\n",
    "# while i <= 12:\n",
    "#     print(\"%d * %d = %d\" % (number, i, (number*i)))\n",
    "#     i += 1\n",
    "\n",
    "# a = [1, 2, 3, 4, 5, 6, 7, 8]\n",
    "# i = 0\n",
    "# while i < len(a):\n",
    "#     print(a[i], end=\" \")\n",
    "#     i += 1\n",
    "\n",
    "# number = 10; i = 0\n",
    "# while i < number:\n",
    "#     i += 1\n",
    "#     if i % 2 == 0:\n",
    "#         continue\n",
    "#     print(i)\n",
    "\n",
    "\n",
    "# i = 1; sum = 0\n",
    "# while i <= 3:\n",
    "#     score = float(input(\"Enter your scores : \"))\n",
    "#     sum += score\n",
    "#     i+= 1\n",
    "# total = sum/3\n",
    "# print(\"Avg score student: %.2f\" % total)\n",
    "\n",
    "# x = [3.5, 2, 10.5, 8]\n",
    "# y = 0\n",
    "# while y < len(x):\n",
    "#     print(x[y+1])\n",
    "#     y += 2\n",
    "\n",
    "# x = 4\n",
    "# while x < 12:\n",
    "#     x += 3\n",
    "#     if x == 8: continue\n",
    "#     print(x)\n",
    "\n",
    "# number = int(input())\n",
    "# i = 1; sum = 0\n",
    "# while i < number:\n",
    "#     if i % 3 == 0 or i % 5 == 0:\n",
    "#         sum += i\n",
    "#     i += 1\n",
    "# print(sum)"
   ]
  },
  {
   "cell_type": "code",
   "execution_count": 5,
   "metadata": {},
   "outputs": [
    {
     "name": "stdout",
     "output_type": "stream",
     "text": [
      "1\n"
     ]
    }
   ],
   "source": [
    "# a = [\"A\", \"B\", \"C\"]\n",
    "# i = 0\n",
    "# while i<len(a):\n",
    "#     print(a[i], end=\" \")\n",
    "#     i+=1\n",
    "\n",
    "# i = 1\n",
    "# while i <= 3:\n",
    "#     name = input()\n",
    "#     i+=1\n",
    "\n",
    "# i = 0\n",
    "# while i <= 10:\n",
    "#     i += 1\n",
    "#     if i == 5:\n",
    "#         continue\n",
    "#     print(i)\n",
    "#     print(\"Hello WOrld\")\n",
    "# print(\"[[[[[[]]]]]]\")\n",
    "\n",
    "# while True:\n",
    "#     num = int(input())\n",
    "#     if num == 0: break\n",
    "\n",
    "# i = 1\n",
    "# while i <= 5:\n",
    "#     print(i)\n",
    "#     i += 1\n",
    "# else:\n",
    "#     print(\"Else\")\n",
    "\n",
    "# num = int(input())\n",
    "# mylist = ['zero','one','two','three','four','five','six','seven','eight','nine']\n",
    "# print(num , '-->' , mylist[num])\n",
    "\n",
    "# n = input().split()\n",
    "# n = list(map(int,n))\n",
    "# s = sum(n)\n",
    "# print(s)\n",
    "\n",
    "# n_sum = 0\n",
    "# n_avg = 0\n",
    "# while True:\n",
    "#     num = input()\n",
    "#     if num == 'q':\n",
    "#         break\n",
    "#     n = float(num)\n",
    "#     n_sum += n\n",
    "#     n_avg += 1\n",
    "\n",
    "# if n_sum == 0:\n",
    "#     print(\"No Data\")\n",
    "# else:\n",
    "#     print(round(n_sum / n_avg , 5))\n",
    "\n",
    "# ans = input()\n",
    "# std = input()\n",
    "\n",
    "# if len(ans) == len(std):\n",
    "#     score = 0\n",
    "#     i = 0\n",
    "#     while i < len(ans):\n",
    "#         if std[i] == ans[i]:\n",
    "#             score += 1\n",
    "#         i += 1\n",
    "#     print(score)\n",
    "# else:\n",
    "#     print(\"Incomplete answer\")\n",
    "\n",
    "word = input()\n",
    "sent = input()\n",
    "\n",
    "word_count = sent.count(word)\n",
    "print(word_count)"
   ]
  },
  {
   "cell_type": "code",
   "execution_count": 38,
   "metadata": {},
   "outputs": [
    {
     "name": "stdout",
     "output_type": "stream",
     "text": [
      "1.0\n",
      "2\n",
      "Lemon\n",
      "['Lemon', 'Kiwi', 'orange', 'apple']\n"
     ]
    }
   ],
   "source": [
    "# s = float(input())\n",
    "# if s >= 80:\n",
    "#     x = 'A'\n",
    "# elif s >= 70:\n",
    "#     x = 'B'\n",
    "# elif s >= 60:\n",
    "#     x = 'C'\n",
    "# elif s >= 50:\n",
    "#     x = 'D'\n",
    "# else:\n",
    "#     x = 'F'\n",
    "\n",
    "# print(x)\n",
    "\n",
    "# import math as m\n",
    "# import random as rd\n",
    "# base = 10\n",
    "# log_10 = m.log(10, base)\n",
    "# print(log_10)\n",
    "\n",
    "# x = [\"apple\", \"orange\", \"Kiwi\", \"Lemon\"]\n",
    "# number = rd.randint(1, 10)\n",
    "# print(number)\n",
    "\n",
    "# random_fruits = rd.choice(x)\n",
    "# rd.shuffle(x)\n",
    "# print(random_fruits)\n",
    "# print(x)\n",
    "\n",
    "# print(eval(input(\">>\")))"
   ]
  },
  {
   "cell_type": "code",
   "execution_count": 1,
   "metadata": {},
   "outputs": [
    {
     "name": "stdout",
     "output_type": "stream",
     "text": [
      "Python\n",
      "Python\n",
      "Python\n",
      "Python\n"
     ]
    }
   ],
   "source": [
    "i = 1\n",
    "while i < 5:\n",
    "    print(\"Python\")\n",
    "    i += 1\n",
    "\n"
   ]
  },
  {
   "cell_type": "code",
   "execution_count": 7,
   "metadata": {},
   "outputs": [
    {
     "name": "stdout",
     "output_type": "stream",
     "text": [
      "12 x 1.00 = 12\n",
      "12 x 2.00 = 24\n",
      "12 x 3.00 = 36\n",
      "12 x 4.00 = 48\n",
      "12 x 5.00 = 60\n",
      "12 x 6.00 = 72\n",
      "12 x 7.00 = 84\n",
      "12 x 8.00 = 96\n",
      "12 x 9.00 = 108\n",
      "12 x 10.00 = 120\n",
      "12 x 11.00 = 132\n",
      "12 x 12.00 = 144\n"
     ]
    }
   ],
   "source": [
    "i = 1\n",
    "num = 12\n",
    "while i <= 12:\n",
    "    # print(f\"{num} x {i} = {i*num}\")\n",
    "    # print(num, \"x\", i, \"=\", (num*i))\n",
    "    print(\"%d x %.2f = %d\" % (num, i, num*i))\n",
    "    i += 1"
   ]
  },
  {
   "cell_type": "code",
   "execution_count": 8,
   "metadata": {},
   "outputs": [
    {
     "name": "stdout",
     "output_type": "stream",
     "text": [
      "1\n",
      "2\n",
      "3\n"
     ]
    }
   ],
   "source": [
    "a = [1, 2, 3]\n",
    "i = 0\n",
    "while i < len(a): \n",
    "    print(a[i])\n",
    "    i += 1"
   ]
  },
  {
   "cell_type": "code",
   "execution_count": 11,
   "metadata": {},
   "outputs": [
    {
     "name": "stdout",
     "output_type": "stream",
     "text": [
      "1\n",
      "2\n",
      "3\n",
      "4\n",
      "5\n",
      "6\n",
      "8\n",
      "9\n",
      "10\n",
      "11\n",
      "12\n"
     ]
    }
   ],
   "source": [
    "i = 1\n",
    "while i < 13:\n",
    "    if i == 7:\n",
    "        i += 1\n",
    "        continue\n",
    "    print(i)\n",
    "    i += 1"
   ]
  },
  {
   "cell_type": "code",
   "execution_count": 20,
   "metadata": {},
   "outputs": [
    {
     "name": "stdout",
     "output_type": "stream",
     "text": [
      "99 50 60 44 55 0 \n",
      "Max = 99\n"
     ]
    }
   ],
   "source": [
    "max = 0\n",
    "while True:\n",
    "    num = int(input())\n",
    "    print(num, end=\" \")\n",
    "    if num == 0:\n",
    "        break\n",
    "    if max < num:\n",
    "        max = num\n",
    "\n",
    "print(\"\\nMax = \"+str(max))"
   ]
  },
  {
   "cell_type": "code",
   "execution_count": 31,
   "metadata": {},
   "outputs": [
    {
     "name": "stdout",
     "output_type": "stream",
     "text": [
      "7\n",
      "10\n",
      "13\n"
     ]
    }
   ],
   "source": [
    "\"\"\"\n",
    "x = 4\n",
    "4 < 12\n",
    "\n",
    "x = 7\n",
    "7\n",
    "\n",
    "7 < 12\n",
    "10\n",
    "\n",
    "7 10\n",
    "10< 12\n",
    "13\n",
    "\n",
    "7 10 13\n",
    "\"\"\"\n",
    "x = 4\n",
    "while x < 12:\n",
    "    x += 3\n",
    "    if x == 8: continue\n",
    "    print(x)"
   ]
  },
  {
   "cell_type": "code",
   "execution_count": 36,
   "metadata": {},
   "outputs": [
    {
     "name": "stdout",
     "output_type": "stream",
     "text": [
      "99=98=97=5="
     ]
    }
   ],
   "source": [
    "a = [99, 98, 97, 5]\n",
    "for i in a:\n",
    "    print(i, end=\"=\")"
   ]
  },
  {
   "cell_type": "code",
   "execution_count": 40,
   "metadata": {},
   "outputs": [
    {
     "name": "stdout",
     "output_type": "stream",
     "text": [
      "1\n",
      "3\n",
      "5\n",
      "7\n",
      "9\n",
      "11\n"
     ]
    }
   ],
   "source": [
    "\"\"\"\n",
    "range(start, stop-1, step)\n",
    "\"\"\"\n",
    "\n",
    "for i in range(1, 12, 2):\n",
    "    print(i)"
   ]
  },
  {
   "cell_type": "code",
   "execution_count": 41,
   "metadata": {},
   "outputs": [
    {
     "name": "stdout",
     "output_type": "stream",
     "text": [
      "1\n",
      "5\n",
      "9\n",
      "13\n"
     ]
    }
   ],
   "source": [
    "\"\"\"\n",
    "1\n",
    "5\n",
    "9\n",
    "13\n",
    "\"\"\"\n",
    "for i in range(1, 14, 4):\n",
    "    print(i)"
   ]
  },
  {
   "cell_type": "code",
   "execution_count": 43,
   "metadata": {},
   "outputs": [
    {
     "name": "stdout",
     "output_type": "stream",
     "text": [
      "-15 -10 -5 0 5 "
     ]
    }
   ],
   "source": [
    "\"\"\"\n",
    "-15 -10 -5 0 5\n",
    "\"\"\"\n",
    "for i in range(-15, 6, 5):\n",
    "    print(i, end=\" \")\n"
   ]
  },
  {
   "cell_type": "code",
   "execution_count": 45,
   "metadata": {},
   "outputs": [
    {
     "name": "stdout",
     "output_type": "stream",
     "text": [
      "i = 1\n",
      "1 2 3 4 \n",
      "\n",
      "i = 2\n",
      "1 2 3 4 \n",
      "\n",
      "i = 3\n",
      "1 2 3 4 \n",
      "\n"
     ]
    }
   ],
   "source": [
    "for i in range(1, 4):\n",
    "    print(\"i =\", i)\n",
    "    for j in range(1, 5, 1):\n",
    "        print(j, end=\" \")\n",
    "    print(\"\\n\")"
   ]
  },
  {
   "cell_type": "code",
   "execution_count": 47,
   "metadata": {},
   "outputs": [
    {
     "name": "stdout",
     "output_type": "stream",
     "text": [
      "*****\n",
      "*****\n",
      "*****\n",
      "*****\n",
      "*****\n"
     ]
    }
   ],
   "source": [
    "\"\"\"\n",
    "*****\n",
    "*****\n",
    "*****\n",
    "*****\n",
    "*****\n",
    "\"\"\"\n",
    "# 0 1 2 3 4\n",
    "# 1 2 3 4 5\n",
    "\n",
    "loop_j = 6\n",
    "for i in range(5):\n",
    "    for j in range(1, loop_j):\n",
    "        print(\"*\", end=\"\")\n",
    "    print()\n",
    "    "
   ]
  },
  {
   "cell_type": "code",
   "execution_count": 48,
   "metadata": {},
   "outputs": [
    {
     "name": "stdout",
     "output_type": "stream",
     "text": [
      "*\n",
      "**\n",
      "***\n",
      "****\n",
      "*****\n"
     ]
    }
   ],
   "source": [
    "\"\"\"\n",
    "*\n",
    "**\n",
    "***\n",
    "****\n",
    "*****\n",
    "\"\"\"\n",
    "for i in range(1, 6):\n",
    "    for j in range(i):\n",
    "        print(\"*\", end=\"\")\n",
    "    print()"
   ]
  },
  {
   "cell_type": "code",
   "execution_count": 56,
   "metadata": {},
   "outputs": [
    {
     "name": "stdout",
     "output_type": "stream",
     "text": [
      "***\n"
     ]
    }
   ],
   "source": [
    "# for i in range(5):\n",
    "#     print(\"*\"*5)\n",
    "num = int(input())\n",
    "\n",
    "for i in range(num):\n",
    "    print(\"*\"*3)"
   ]
  },
  {
   "cell_type": "code",
   "execution_count": 57,
   "metadata": {},
   "outputs": [
    {
     "name": "stdout",
     "output_type": "stream",
     "text": [
      "8 -3 8 "
     ]
    }
   ],
   "source": [
    "num = 8\n",
    "for i in range(1, 4):\n",
    "    print(num, end=\" \")\n",
    "    if num > 4:\n",
    "        x = num + 3\n",
    "    else:\n",
    "        x = num - 8 # x = -11\n",
    "    num = num - x # -3 - -11"
   ]
  },
  {
   "cell_type": "code",
   "execution_count": 63,
   "metadata": {},
   "outputs": [
    {
     "name": "stdout",
     "output_type": "stream",
     "text": [
      "*****\n",
      " ****\n",
      "  ***\n",
      "   **\n",
      "    *\n"
     ]
    }
   ],
   "source": [
    "\"\"\"\n",
    "input = 5\n",
    "*****\n",
    " ****\n",
    "  ***\n",
    "   **\n",
    "    *\n",
    "\"\"\"\n",
    "num = int(input())\n",
    "for i in range(num):\n",
    "    k = \" \"*i\n",
    "    print(k + \"*\"*(num-i))\n",
    "    \n"
   ]
  },
  {
   "cell_type": "code",
   "execution_count": 65,
   "metadata": {},
   "outputs": [
    {
     "name": "stdout",
     "output_type": "stream",
     "text": [
      "2 4 6 8 10 12\n",
      "odd sum = 36\n"
     ]
    }
   ],
   "source": [
    "\"\"\"\n",
    "input = 12\n",
    "\n",
    "2 4 6 8 10 12\n",
    "odd sum = 36\n",
    "\"\"\"\n",
    "n = int(input())\n",
    "sum_odd = 0; even = []\n",
    "\n",
    "for i in range(1, n+1):\n",
    "    if i % 2 == 0:\n",
    "        even.append(str(i))\n",
    "    else:\n",
    "        sum_odd += i\n",
    "\n",
    "print(' '.join(even))\n",
    "print(f\"odd sum = {sum_odd}\")\n"
   ]
  }
 ],
 "metadata": {
  "kernelspec": {
   "display_name": "Python 3",
   "language": "python",
   "name": "python3"
  },
  "language_info": {
   "codemirror_mode": {
    "name": "ipython",
    "version": 3
   },
   "file_extension": ".py",
   "mimetype": "text/x-python",
   "name": "python",
   "nbconvert_exporter": "python",
   "pygments_lexer": "ipython3",
   "version": "3.12.5"
  }
 },
 "nbformat": 4,
 "nbformat_minor": 2
}
